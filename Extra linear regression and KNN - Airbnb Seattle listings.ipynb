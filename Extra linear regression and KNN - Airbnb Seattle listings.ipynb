{
 "cells": [
  {
   "cell_type": "markdown",
   "id": "54494ed5",
   "metadata": {},
   "source": [
    "## Linear regression"
   ]
  },
  {
   "cell_type": "code",
   "execution_count": null,
   "id": "8c107f19",
   "metadata": {},
   "outputs": [],
   "source": [
    "X_train, X_test, y_train, y_test = train_test_split(X, y, test_size = 0.3, random_state=42)"
   ]
  },
  {
   "cell_type": "code",
   "execution_count": null,
   "id": "8cf54111",
   "metadata": {},
   "outputs": [],
   "source": [
    "#fit the model and obtain pred response\n",
    "lm_model = LinearRegression(normalize=True)\n",
    "lm_model.fit(X_train, y_train)\n",
    "y_test_preds = lm_model.predict(X_test)\n",
    "y_train_preds = lm_model.predict(X_train)"
   ]
  },
  {
   "cell_type": "code",
   "execution_count": null,
   "id": "3e55a17f",
   "metadata": {},
   "outputs": [],
   "source": [
    "r2_test = r2_score(y_test, y_test_preds)\n",
    "r2_train = r2_score(y_train, y_train_preds)\n",
    "\n",
    "print(f'Performance on train: {r2_train*100:.2f}%')\n",
    "print(f'Performance on test:  {r2_test*100:.2f}%')\n"
   ]
  },
  {
   "cell_type": "code",
   "execution_count": null,
   "id": "c8de04d2",
   "metadata": {},
   "outputs": [],
   "source": [
    "## Train the model, get the coef and select the 5 most important variables"
   ]
  },
  {
   "cell_type": "markdown",
   "id": "a919c911",
   "metadata": {},
   "source": [
    "## Elimite features"
   ]
  },
  {
   "cell_type": "code",
   "execution_count": null,
   "id": "ff87b148",
   "metadata": {},
   "outputs": [],
   "source": [
    "listings.bed_type.value_counts()"
   ]
  },
  {
   "cell_type": "code",
   "execution_count": 84,
   "id": "34aea40d",
   "metadata": {},
   "outputs": [],
   "source": [
    "regression_cols = [\n",
    "#     'neighbourhood_cleansed',\n",
    "    'neighbourhood_group_cleansed',\n",
    "    'property_category',\n",
    "    'cancellation_policy',\n",
    "    'review_scores_rating',\n",
    "    'room_type',\n",
    "    'accommodates',\n",
    "    'bathrooms',\n",
    "    'bedrooms',\n",
    "    'number_of_reviews',\n",
    "    'calendar_updated_clean',\n",
    "    'price' # y_value\n",
    "                  ]"
   ]
  },
  {
   "cell_type": "code",
   "execution_count": null,
   "id": "94a5cecc",
   "metadata": {},
   "outputs": [],
   "source": [
    "# report which features were selected by RFE\n",
    "from sklearn.datasets import make_classification\n",
    "from sklearn.feature_selection import RFE\n",
    "\n",
    "#define dataset\n",
    "X, y = clean_data(listings[regression_cols])\n",
    "\n",
    "# Split train/test set\n",
    "X_train, X_test, y_train, y_test = train_test_split(X, y, test_size = 0.2, random_state=42)\n",
    "\n",
    "# define RFE\n",
    "rfe = RFE(estimator=LinearRegression(normalize=True), n_features_to_select=10)\n",
    "# fit RFE\n",
    "rfe.fit(X_train, y_train)\n",
    "# summarize all features\n",
    "rfe_summary = {'columns': X.columns.tolist(),\n",
    "               'selected': rfe.support_,\n",
    "               'rank': rfe.ranking_\n",
    "              }\n",
    "selected = pd.DataFrame(data=rfe_summary).sort_values(by='rank')\n",
    "selected.head(10)\n"
   ]
  },
  {
   "cell_type": "code",
   "execution_count": null,
   "id": "f38bf73d",
   "metadata": {},
   "outputs": [],
   "source": [
    "y_pred = rfe.predict(X_test)"
   ]
  },
  {
   "cell_type": "code",
   "execution_count": null,
   "id": "4130c1a7",
   "metadata": {},
   "outputs": [],
   "source": [
    "mean_squared_error(y_true=y_test, y_pred=y_pred)"
   ]
  },
  {
   "cell_type": "code",
   "execution_count": null,
   "id": "881d6973",
   "metadata": {},
   "outputs": [],
   "source": [
    "mean_absolute_error(y_true=y_test, y_pred=y_pred)"
   ]
  },
  {
   "cell_type": "code",
   "execution_count": null,
   "id": "0416db58",
   "metadata": {},
   "outputs": [],
   "source": [
    "fig, ax = plt.subplots()\n",
    "performance.y_true.hist(bins=40)\n",
    "ax.axvline(x=60)"
   ]
  },
  {
   "cell_type": "code",
   "execution_count": null,
   "id": "40a68566",
   "metadata": {},
   "outputs": [],
   "source": [
    "mean_absolute_percentage_error(y_true=y_test, y_pred=y_pred)"
   ]
  },
  {
   "cell_type": "code",
   "execution_count": null,
   "id": "a2ace3b4",
   "metadata": {},
   "outputs": [],
   "source": [
    "SCORERS.keys()"
   ]
  },
  {
   "cell_type": "code",
   "execution_count": null,
   "id": "1be6230d",
   "metadata": {},
   "outputs": [],
   "source": [
    "#define dataset\n",
    "X, y = clean_data(listings[regression_cols])\n",
    "\n",
    "best_model = 100000\n",
    "\n",
    "for n_features in range(1,21):\n",
    "    # define RFE\n",
    "    rfe = RFE(estimator=LinearRegression(normalize=True), n_features_to_select=n_features)\n",
    "    model=LinearRegression(normalize=True)\n",
    "\n",
    "    pipeline = Pipeline(steps=[('s',rfe),('m',model)])\n",
    "\n",
    "    # Run cv\n",
    "    cv = RepeatedKFold(n_splits=5, n_repeats=3, random_state=42)\n",
    "    n_scores = cross_val_score(pipeline, X, y, scoring='r2', cv=cv, n_jobs=-1, error_score='raise')\n",
    "    \n",
    "    mean_score = np.mean(n_scores)\n",
    "    std_score = np.std(n_scores)\n",
    "    \n",
    "    print(f'Features: {n_features}, Mean score {mean_score}, std: {std_score}')\n",
    "    \n",
    "    best_model = best_model if mean_score > best_model else mean_score\n"
   ]
  },
  {
   "cell_type": "code",
   "execution_count": null,
   "id": "105903ae",
   "metadata": {},
   "outputs": [],
   "source": [
    "from sklearn.metrics import mean_absolute_error,mean_absolute_percentage_error"
   ]
  },
  {
   "cell_type": "code",
   "execution_count": null,
   "id": "4c274dea",
   "metadata": {},
   "outputs": [],
   "source": [
    "from sklearn.model_selection import cross_val_score\n",
    "from sklearn.model_selection import RepeatedKFold\n",
    "from sklearn.feature_selection import RFE\n",
    "from sklearn.tree import DecisionTreeRegressor\n",
    "from sklearn.pipeline import Pipeline"
   ]
  },
  {
   "cell_type": "markdown",
   "id": "61ed3165",
   "metadata": {},
   "source": [
    "## Try a K-nn for fun"
   ]
  },
  {
   "cell_type": "code",
   "execution_count": null,
   "id": "390a330a",
   "metadata": {},
   "outputs": [],
   "source": [
    "from sklearn.neighbors import KNeighborsRegressor"
   ]
  },
  {
   "cell_type": "code",
   "execution_count": null,
   "id": "8b7d5022",
   "metadata": {},
   "outputs": [],
   "source": [
    "def get_clean_split(df, columns=[]):    \n",
    "    X,y = clean_data(df)\n",
    "    \n",
    "    if len(columns) > 0:\n",
    "        X = X[columns]\n",
    "    \n",
    "    X_train, X_test, y_train, y_test = train_test_split(X, y, test_size = 0.2, random_state=42)\n",
    "\n",
    "    return X_train, X_test, y_train, y_test    "
   ]
  },
  {
   "cell_type": "code",
   "execution_count": null,
   "id": "71ed19c8",
   "metadata": {},
   "outputs": [],
   "source": [
    "X_train, X_test, y_train, y_test = get_clean_split(listings, columns=['bedrooms','bathrooms'])"
   ]
  },
  {
   "cell_type": "code",
   "execution_count": null,
   "id": "c039cd69",
   "metadata": {},
   "outputs": [],
   "source": [
    "knn = KNeighborsRegressor(n_neighbors=5)"
   ]
  },
  {
   "cell_type": "code",
   "execution_count": null,
   "id": "f43f6431",
   "metadata": {},
   "outputs": [],
   "source": [
    "knn.fit(X_train, y_train)"
   ]
  },
  {
   "cell_type": "code",
   "execution_count": null,
   "id": "d1c8cd40",
   "metadata": {},
   "outputs": [],
   "source": [
    "knn.score(X_test, y_test)"
   ]
  },
  {
   "cell_type": "code",
   "execution_count": null,
   "id": "ad1a4c95",
   "metadata": {},
   "outputs": [],
   "source": [
    "def run_knn_regression(df, columns=[], neighbours=[5]):\n",
    "    scores = {}\n",
    "    \n",
    "    X_train, X_test, y_train, y_test = get_clean_split(df, columns)\n",
    "    \n",
    "    for neighbour in neighbours:\n",
    "        print(f'Training model with {neighbour} neighours')\n",
    "        knn = KNeighborsRegressor(n_neighbors=neighbour)\n",
    "        knn.fit(X_train, y_train)\n",
    "        scores[neighbour] = knn.score(X_test, y_test)\n",
    "        \n",
    "    return scores"
   ]
  },
  {
   "cell_type": "code",
   "execution_count": null,
   "id": "09fd24f8",
   "metadata": {},
   "outputs": [],
   "source": [
    "knn_feats = {}\n",
    "for top_feats in [3,5,7,9]:\n",
    "    \n",
    "\n",
    "    knn_feats[top_feats] = run_knn_regression(listings, columns=feature_ranks.head(top_feats).feature.tolist(), neighbours=[1,3,5,7,9,15])\n",
    "    \n",
    "pd.DataFrame(knn_feats)"
   ]
  },
  {
   "cell_type": "markdown",
   "id": "563d098e",
   "metadata": {},
   "source": [
    "## Looking at the Review data set\n",
    "- `date` is stored as a string, turn that into the proper data type\n",
    "- only a few missing values for the comments, as the comments are the only \n",
    "\n",
    "There seems to be not a lot of information in the reviews. The value of the review dataset is captured in the comments which need to be unlocked with NLP. For this project that is out is out of scope, and with that the dataset won't be included in the blog post"
   ]
  },
  {
   "cell_type": "code",
   "execution_count": null,
   "id": "9f18aab7",
   "metadata": {},
   "outputs": [],
   "source": [
    "reviews = pd.read_csv('data/airbnb_seatle/reviews.csv')\n",
    "df_summary_overview(reviews)"
   ]
  },
  {
   "cell_type": "code",
   "execution_count": null,
   "id": "509e6ea1",
   "metadata": {},
   "outputs": [],
   "source": [
    "# Check empty comments:\n",
    "display(reviews[reviews.comments.isnull()])"
   ]
  },
  {
   "cell_type": "code",
   "execution_count": null,
   "id": "b641d27a",
   "metadata": {},
   "outputs": [],
   "source": [
    "# The reviews above don't add any information, they might be invalid duplicates, lets check:\n",
    "\n",
    "for idx, list_id, review_id in reviews.loc[reviews.comments.isnull(),['listing_id','reviewer_id']].itertuples():    \n",
    "    display(reviews[(reviews.listing_id == list_id) & (reviews.reviewer_id == review_id)])\n",
    "    \n",
    "# two reviews have other entries that do have a comment. It is save to drop these\n",
    "\n",
    "reviews = reviews.dropna(subset=['comments'])"
   ]
  },
  {
   "cell_type": "code",
   "execution_count": null,
   "id": "93099891",
   "metadata": {},
   "outputs": [],
   "source": []
  },
  {
   "cell_type": "code",
   "execution_count": null,
   "id": "bbc65c81",
   "metadata": {},
   "outputs": [],
   "source": []
  },
  {
   "cell_type": "code",
   "execution_count": null,
   "id": "c08dc467",
   "metadata": {},
   "outputs": [],
   "source": []
  }
 ],
 "metadata": {
  "kernelspec": {
   "display_name": "Python 3",
   "language": "python",
   "name": "python3"
  },
  "language_info": {
   "codemirror_mode": {
    "name": "ipython",
    "version": 3
   },
   "file_extension": ".py",
   "mimetype": "text/x-python",
   "name": "python",
   "nbconvert_exporter": "python",
   "pygments_lexer": "ipython3",
   "version": "3.8.3"
  }
 },
 "nbformat": 4,
 "nbformat_minor": 5
}
